{
 "cells": [
  {
   "cell_type": "code",
   "execution_count": 1,
   "id": "59671bf7",
   "metadata": {},
   "outputs": [],
   "source": [
    "from splinter import Browser\n",
    "from bs4 import BeautifulSoup as soup\n",
    "from webdriver_manager.chrome import ChromeDriverManager\n",
    "import pandas as pd\n",
    "import datetime as dt\n"
   ]
  },
  {
   "cell_type": "code",
   "execution_count": 2,
   "id": "8e21bda0",
   "metadata": {},
   "outputs": [],
   "source": [
    "def scrape_all():\n",
    "    # Initiate headless driver for deployment\n",
    "    executable_path = {'executable_path': ChromeDriverManager().install()}\n",
    "    browser = Browser('chrome', **executable_path, headless=True)\n",
    "\n",
    "    news_title, news_paragraph = mars_news(browser)\n",
    "\n",
    "    # Run all scraping functions and store results in dictionary\n",
    "    data = {\n",
    "        \"news_title\": news_title,\n",
    "        \"news_paragraph\": news_paragraph,\n",
    "        \"featured_image\": featured_image(browser),\n",
    "        \"facts\": mars_facts(),\n",
    "        \"last_modified\": dt.datetime.now(),\n",
    "        \"hemisphere_photos\": hemispheres(browser)\n",
    "    }\n",
    "    # Stop Webdriver and return data\n",
    "    browser.quit()\n",
    "    return data"
   ]
  },
  {
   "cell_type": "code",
   "execution_count": 3,
   "id": "a07fe8a1",
   "metadata": {},
   "outputs": [],
   "source": [
    "def mars_news(browser):\n",
    "    # Scrape Mars News\n",
    "    # Visit the mars nasa news site\n",
    "    url = 'https://redplanetscience.com/'\n",
    "    browser.visit(url)\n",
    "\n",
    "    # Optional delay for loading the page\n",
    "    browser.is_element_present_by_css('div.list_text', wait_time=1)\n",
    "\n",
    "    # Convert the browser html to a soup object and then quit the browser\n",
    "    html = browser.html\n",
    "    news_soup = soup(html, 'html.parser')\n",
    "\n",
    "    # Add try/except for errors\n",
    "    try:\n",
    "        slide_elem = news_soup.select_one('div.list_text')\n",
    "        # Use the parent element to find the first 'a' tag and save it as 'news_title'\n",
    "        news_title = slide_elem.find('div', class_='content_title').get_text()\n",
    "        # Use the parent element to find the paragraph text\n",
    "        news_p = slide_elem.find(\n",
    "            'div', class_='article_teaser_body').get_text()\n",
    "    except AttributeError:\n",
    "        return None, None\n",
    "\n",
    "    return news_title, news_p\n"
   ]
  },
  {
   "cell_type": "code",
   "execution_count": 4,
   "id": "95bf0073",
   "metadata": {},
   "outputs": [],
   "source": [
    "def featured_image(browser):\n",
    "    # Visit URL\n",
    "    url = 'https://data-class-jpl-space.s3.amazonaws.com/JPL_Space/index.html'\n",
    "    browser.visit(url)\n",
    "\n",
    "    # Find and click the full image button\n",
    "    full_image_elem = browser.find_by_tag('button')[1]\n",
    "    full_image_elem.click()\n",
    "\n",
    "    # Parse the resulting html with soup\n",
    "    html = browser.html\n",
    "    img_soup = soup(html, 'html.parser')\n",
    "\n",
    "    try:\n",
    "        # find the relative image url\n",
    "        img_url_rel = img_soup.find('img', class_='fancybox-image').get('src')\n",
    "\n",
    "    except AttributeError:\n",
    "        return None\n",
    "\n",
    "    # Use the base URL to create an absolute URL\n",
    "    img_url = f'https://data-class-jpl-space.s3.amazonaws.com/JPL_Space/{img_url_rel}'\n",
    "\n",
    "    return img_url"
   ]
  },
  {
   "cell_type": "code",
   "execution_count": 5,
   "id": "8b4d907e",
   "metadata": {},
   "outputs": [],
   "source": [
    "def mars_facts():\n",
    "    # Add try/except for errors\n",
    "    try:\n",
    "        # use 'read_html\" to scrape the facts table into a dataframe\n",
    "        df = pd.read_html(\n",
    "            'https://data-class-mars-facts.s3.amazonaws.com/Mars_Facts/index.html')[0]\n",
    "\n",
    "    except BaseException:\n",
    "        return None\n",
    "\n",
    "    df.columns = ['description', 'Mars', 'Earth']\n",
    "    df.set_index('description', inplace=True)\n",
    "\n",
    "    return df.to_html()"
   ]
  },
  {
   "cell_type": "code",
   "execution_count": 6,
   "id": "0650a69b",
   "metadata": {},
   "outputs": [],
   "source": [
    "def hemispheres(browser):\n",
    "\n",
    "    url = 'https://marshemispheres.com/'\n",
    "    browser.visit(url+\"index.html\")\n",
    "    hemisphere_image_urls = []\n",
    "    hemispheres = {}\n",
    "    for i in range(4):\n",
    "        browser.is_element_present_by_css('a.product-item img', wait_time=5)\n",
    "        browser.find_by_css(\"a.product-item img\")[i].click()\n",
    "        hemi_soup = soup(browser.html, 'html.parser')\n",
    "        try:\n",
    "            title_elem = hemi_soup.find(\"h2\", class_=\"title\").get_text()\n",
    "            sample_elem = hemi_soup.find(\"a\", text=\"Sample\").get(\"href\")\n",
    "\n",
    "        except AttributeError:\n",
    "            title_elem = None\n",
    "            sample_elem = None\n",
    "\n",
    "        hemispheres = {\n",
    "            \"title\": title_elem,\n",
    "            \"img_url\": sample_elem\n",
    "        }\n",
    "        hemispheres['img_url'] = url + hemispheres['img_url']\n",
    "\n",
    "        hemisphere_image_urls.append(hemispheres)\n",
    "        browser.back()\n",
    "    browser.quit()\n",
    "    return hemisphere_image_urls"
   ]
  },
  {
   "cell_type": "code",
   "execution_count": null,
   "id": "e760225f",
   "metadata": {},
   "outputs": [],
   "source": [
    "if __name__ == \"__main__\":\n",
    "    # If running as script, print scraped data\n",
    "    print(scrape_all())\n"
   ]
  }
 ],
 "metadata": {
  "kernelspec": {
   "display_name": "PythonData",
   "language": "python",
   "name": "pythondata"
  },
  "language_info": {
   "codemirror_mode": {
    "name": "ipython",
    "version": 3
   },
   "file_extension": ".py",
   "mimetype": "text/x-python",
   "name": "python",
   "nbconvert_exporter": "python",
   "pygments_lexer": "ipython3",
   "version": "3.7.13"
  }
 },
 "nbformat": 4,
 "nbformat_minor": 5
}
